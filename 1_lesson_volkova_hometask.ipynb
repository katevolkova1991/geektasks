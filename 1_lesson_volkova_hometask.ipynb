{
 "cells": [
  {
   "cell_type": "markdown",
   "metadata": {},
   "source": [
    "Задание 1\n",
    "Импортируйте библиотеку Numpy и дайте ей псевдоним np.\n",
    "Создайте массив Numpy под названием a размером 5x2, то есть состоящий из 5 строк и 2 столбцов. Первый столбец должен содержать числа 1, 2, 3, 3, 1, а второй - числа 6, 8, 11, 10, 7. Будем считать, что каждый столбец - это признак, а строка - наблюдение. Затем найдите среднее значение по каждому признаку, используя метод mean массива Numpy. Результат запишите в массив mean_a, в нем должно быть 2 элемента.\n"
   ]
  },
  {
   "cell_type": "code",
   "execution_count": 14,
   "metadata": {},
   "outputs": [
    {
     "name": "stdout",
     "output_type": "stream",
     "text": [
      "[2.  8.4]\n"
     ]
    }
   ],
   "source": [
    "import numpy as np\n",
    "\n",
    "\n",
    "a = np.array([[1,6], [2,8], [3,11], [3,10], [1,7]])\n",
    "mean_a = np.mean(a, axis=0)\n",
    "print(mean_a)"
   ]
  },
  {
   "cell_type": "markdown",
   "metadata": {},
   "source": [
    "Задание 2\n",
    "Вычислите массив a_centered, отняв от значений массива “а” средние значения соответствующих признаков, содержащиеся в массиве mean_a. Вычисление должно производиться в одно действие. Получившийся массив должен иметь размер 5x2.\n"
   ]
  },
  {
   "cell_type": "code",
   "execution_count": 16,
   "metadata": {},
   "outputs": [
    {
     "name": "stdout",
     "output_type": "stream",
     "text": [
      "[[-1.  -2.4]\n",
      " [ 0.  -0.4]\n",
      " [ 1.   2.6]\n",
      " [ 1.   1.6]\n",
      " [-1.  -1.4]]\n"
     ]
    }
   ],
   "source": [
    "a_centered = a - mean_a\n",
    "print(a_centered)"
   ]
  },
  {
   "cell_type": "markdown",
   "metadata": {},
   "source": [
    "Задание 3\n",
    "Найдите скалярное произведение столбцов массива a_centered. В результате должна получиться величина a_centered_sp. Затем поделите a_centered_sp на N-1, где N - число наблюдений.\n"
   ]
  },
  {
   "cell_type": "code",
   "execution_count": 22,
   "metadata": {},
   "outputs": [
    {
     "name": "stdout",
     "output_type": "stream",
     "text": [
      "8.0\n",
      "0.8888888888888888\n"
     ]
    }
   ],
   "source": [
    "a_centered_sp = np.dot(a_centered[:, 0], a_centered[:, 1])\n",
    "print(a_centered_sp)\n",
    "a_centered_sp = a_centered_sp / (a.size - 1)\n",
    "print(a_centered_sp)"
   ]
  },
  {
   "cell_type": "markdown",
   "metadata": {},
   "source": [
    "Задание 4**\n",
    "Число, которое мы получили в конце задания 3 является ковариацией двух признаков, содержащихся в массиве “а”. В задании 4 мы делили сумму произведений центрированных признаков на N-1, а не на N, поэтому полученная нами величина является несмещенной оценкой ковариации.\n",
    "В этом задании проверьте получившееся число, вычислив ковариацию еще одним способом - с помощью функции np.cov. В качестве аргумента m функция np.cov должна принимать транспонированный массив “a”. В получившейся ковариационной матрице (массив Numpy размером 2x2) искомое значение ковариации будет равно элементу в строке с индексом 0 и столбце с индексом 1.\n",
    "\n",
    "\n",
    "честно говоря, ничего не поняла, что тут должно быть =("
   ]
  },
  {
   "cell_type": "code",
   "execution_count": 23,
   "metadata": {
    "scrolled": true
   },
   "outputs": [
    {
     "name": "stdout",
     "output_type": "stream",
     "text": [
      "[[1.  2. ]\n",
      " [2.  4.3]]\n"
     ]
    }
   ],
   "source": [
    "print(np.cov(a.transpose()))"
   ]
  },
  {
   "cell_type": "markdown",
   "metadata": {},
   "source": [
    "Задание 1\n",
    "Импортируйте библиотеку Pandas и дайте ей псевдоним pd. Создайте датафрейм authors со столбцами author_id и author_name, в которых соответственно содержатся данные: [1, 2, 3] и ['Тургенев', 'Чехов', 'Островский'].\n",
    "Затем создайте датафрейм book cо столбцами author_id, book_title и price, в которых соответственно содержатся данные: \n",
    "[1, 1, 1, 2, 2, 3, 3], \n",
    "['Отцы и дети', 'Рудин', 'Дворянское гнездо', 'Толстый и тонкий', 'Дама с собачкой', 'Гроза', 'Таланты и поклонники'],\n",
    "[450, 300, 350, 500, 450, 370, 290].\n"
   ]
  },
  {
   "cell_type": "code",
   "execution_count": 26,
   "metadata": {},
   "outputs": [
    {
     "name": "stdout",
     "output_type": "stream",
     "text": [
      "   author_id author_name\n",
      "0          1    Тургенев\n",
      "1          2       Чехов\n",
      "2          3  Островский\n",
      "   author_id            book_title  price\n",
      "0          1           Отцы и дети    450\n",
      "1          1                 Рудин    300\n",
      "2          1     Дворянское гнездо    350\n",
      "3          2      Толстый и тонкий    500\n",
      "4          2       Дама с собачкой    450\n",
      "5          3                 Гроза    370\n",
      "6          3  Таланты и поклонники    290\n"
     ]
    }
   ],
   "source": [
    "import pandas as pd\n",
    "\n",
    "d = {'author_id': [1, 2, 3], 'author_name': ['Тургенев', 'Чехов', 'Островский']}\n",
    "authors = pd.DataFrame(data=d)\n",
    "b = {'author_id': [1, 1, 1, 2, 2, 3, 3], \n",
    "     'book_title': ['Отцы и дети', 'Рудин', 'Дворянское гнездо','Толстый и тонкий', 'Дама с собачкой', 'Гроза', 'Таланты и поклонники'], \n",
    "     'price': [450, 300, 350, 500, 450, 370, 290]}\n",
    "book = pd.DataFrame(data=b)\n",
    "print(authors)\n",
    "print(book)"
   ]
  },
  {
   "cell_type": "markdown",
   "metadata": {},
   "source": [
    "Задание 2\n",
    "Получите датафрейм authors_price, соединив датафреймы authors и books по полю author_id."
   ]
  },
  {
   "cell_type": "code",
   "execution_count": 27,
   "metadata": {},
   "outputs": [
    {
     "name": "stdout",
     "output_type": "stream",
     "text": [
      "   author_id author_name            book_title  price\n",
      "0          1    Тургенев           Отцы и дети    450\n",
      "1          1    Тургенев                 Рудин    300\n",
      "2          1    Тургенев     Дворянское гнездо    350\n",
      "3          2       Чехов      Толстый и тонкий    500\n",
      "4          2       Чехов       Дама с собачкой    450\n",
      "5          3  Островский                 Гроза    370\n",
      "6          3  Островский  Таланты и поклонники    290\n"
     ]
    }
   ],
   "source": [
    "authors_price = pd.merge(authors, book, how='outer', on='author_id')\n",
    "print(authors_price)"
   ]
  },
  {
   "cell_type": "markdown",
   "metadata": {},
   "source": [
    "Задание 3\n",
    "Создайте датафрейм top5, в котором содержатся строки из authors_price с пятью самыми дорогими книгами."
   ]
  },
  {
   "cell_type": "code",
   "execution_count": 33,
   "metadata": {},
   "outputs": [
    {
     "name": "stdout",
     "output_type": "stream",
     "text": [
      "   author_id author_name         book_title  price\n",
      "3          2       Чехов   Толстый и тонкий    500\n",
      "0          1    Тургенев        Отцы и дети    450\n",
      "4          2       Чехов    Дама с собачкой    450\n",
      "5          3  Островский              Гроза    370\n",
      "2          1    Тургенев  Дворянское гнездо    350\n"
     ]
    }
   ],
   "source": [
    "top5 = authors_price.nlargest(n=5, columns='price', keep='first')\n",
    "print(top5)"
   ]
  },
  {
   "cell_type": "markdown",
   "metadata": {},
   "source": [
    "Задание 4\n",
    "Создайте датафрейм authors_stat на основе информации из authors_price. В датафрейме authors_stat должны быть четыре столбца:\n",
    "author_name, min_price, max_price и mean_price,\n",
    "в которых должны содержаться соответственно имя автора,минимальная, максимальная и средняя цена на книги этого автора."
   ]
  },
  {
   "cell_type": "code",
   "execution_count": 64,
   "metadata": {
    "scrolled": true
   },
   "outputs": [
    {
     "name": "stdout",
     "output_type": "stream",
     "text": [
      "            price                 \n",
      "             amin amax        mean\n",
      "author_name                       \n",
      "Островский    290  370  330.000000\n",
      "Тургенев      300  450  366.666667\n",
      "Чехов         450  500  475.000000\n"
     ]
    }
   ],
   "source": [
    "authors_stat = authors_price.groupby(['author_name']).agg({'price': [np.min, np.max, np.mean]})\n",
    "\n",
    "print(authors_stat)"
   ]
  },
  {
   "cell_type": "markdown",
   "metadata": {},
   "source": [
    "Задание 5**\n",
    "Создайте новый столбец в датафрейме authors_price под названием cover, в нем будут располагаться данные о том, какая обложка у данной книги - твердая или мягкая. В этот столбец поместите данные из следующего списка:\n",
    "['твердая', 'мягкая', 'мягкая', 'твердая', 'твердая', 'мягкая', 'мягкая'].\n",
    "Просмотрите документацию по функции pd.pivot_table с помощью вопросительного знака.Для каждого автора посчитайте суммарную стоимость книг в твердой и мягкой обложке. Используйте для этого функцию pd.pivot_table. При этом столбцы должны называться \"твердая\" и \"мягкая\", а индексами должны быть фамилии авторов. Пропущенные значения стоимостей заполните нулями, при необходимости загрузите библиотеку Numpy.\n",
    "Назовите полученный датасет book_info и сохраните его в формат pickle под названием \"book_info.pkl\". Затем загрузите из этого файла датафрейм и назовите его book_info2. Удостоверьтесь, что датафреймы book_info и book_info2 идентичны.\n"
   ]
  },
  {
   "cell_type": "code",
   "execution_count": 65,
   "metadata": {},
   "outputs": [
    {
     "name": "stdout",
     "output_type": "stream",
     "text": [
      "   author_id author_name            book_title  price    cover\n",
      "0          1    Тургенев           Отцы и дети    450  твердая\n",
      "1          1    Тургенев                 Рудин    300   мягкая\n",
      "2          1    Тургенев     Дворянское гнездо    350   мягкая\n",
      "3          2       Чехов      Толстый и тонкий    500  твердая\n",
      "4          2       Чехов       Дама с собачкой    450  твердая\n",
      "5          3  Островский                 Гроза    370   мягкая\n",
      "6          3  Островский  Таланты и поклонники    290   мягкая\n"
     ]
    }
   ],
   "source": [
    "authors_price['cover'] = ['твердая', 'мягкая', 'мягкая', 'твердая', 'твердая', 'мягкая', 'мягкая']\n",
    "print(authors_price)"
   ]
  },
  {
   "cell_type": "code",
   "execution_count": 68,
   "metadata": {},
   "outputs": [],
   "source": [
    "?pd.pivot_table"
   ]
  },
  {
   "cell_type": "code",
   "execution_count": 70,
   "metadata": {
    "scrolled": true
   },
   "outputs": [
    {
     "name": "stdout",
     "output_type": "stream",
     "text": [
      "cover        мягкая  твердая\n",
      "author_name                 \n",
      "Островский      660        0\n",
      "Тургенев        650      450\n",
      "Чехов             0      950\n"
     ]
    }
   ],
   "source": [
    "book_info = pd.pivot_table(authors_price, values='price', index=['author_name'], columns=['cover'], aggfunc=np.sum, fill_value=0)\n",
    "print(book_info)"
   ]
  },
  {
   "cell_type": "code",
   "execution_count": 73,
   "metadata": {},
   "outputs": [],
   "source": [
    "book_info.to_pickle('./book_info.pkl')"
   ]
  },
  {
   "cell_type": "code",
   "execution_count": 74,
   "metadata": {},
   "outputs": [
    {
     "name": "stdout",
     "output_type": "stream",
     "text": [
      "cover        мягкая  твердая\n",
      "author_name                 \n",
      "Островский      660        0\n",
      "Тургенев        650      450\n",
      "Чехов             0      950\n"
     ]
    }
   ],
   "source": [
    "book_info2 = pd.read_pickle('./book_info.pkl')\n",
    "print(book_info2)"
   ]
  },
  {
   "cell_type": "code",
   "execution_count": null,
   "metadata": {},
   "outputs": [],
   "source": []
  }
 ],
 "metadata": {
  "kernelspec": {
   "display_name": "Python 3",
   "language": "python",
   "name": "python3"
  },
  "language_info": {
   "codemirror_mode": {
    "name": "ipython",
    "version": 3
   },
   "file_extension": ".py",
   "mimetype": "text/x-python",
   "name": "python",
   "nbconvert_exporter": "python",
   "pygments_lexer": "ipython3",
   "version": "3.7.3"
  }
 },
 "nbformat": 4,
 "nbformat_minor": 2
}
